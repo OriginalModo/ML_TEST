{
  "nbformat": 4,
  "nbformat_minor": 0,
  "metadata": {
    "colab": {
      "provenance": [],
      "toc_visible": true
    },
    "kernelspec": {
      "name": "python3",
      "display_name": "Python 3"
    },
    "language_info": {
      "name": "python"
    }
  },
  "cells": [
    {
      "cell_type": "code",
      "source": [
        "import nltk\n",
        "from nltk.sentiment import SentimentIntensityAnalyzer\n",
        "import torch\n",
        "from transformers import GPT2LMHeadModel, GPT2Tokenizer\n",
        "\n",
        "nltk.download('vader_lexicon')\n",
        "sia = SentimentIntensityAnalyzer()\n",
        "\n",
        "tokenizer = GPT2Tokenizer.from_pretrained('gpt2')\n",
        "model = GPT2LMHeadModel.from_pretrained('gpt2')\n",
        "\n",
        "def generate_response(prompt, character):\n",
        "    if character in (\"Бетмен\"):\n",
        "        prefix = \"Как Бетмен: \"\n",
        "    else:\n",
        "        prefix = \"Как Джокер: \"\n",
        "\n",
        "    input_text = prefix + prompt\n",
        "    input_ids = tokenizer.encode(input_text, return_tensors='pt')\n",
        "\n",
        "    with torch.no_grad():\n",
        "        output = model.generate(input_ids, max_length=60, num_return_sequences=1)\n",
        "\n",
        "    response = tokenizer.decode(output[0], skip_special_tokens=True)\n",
        "    return response\n",
        "\n",
        "test_questions = [\n",
        "    \"Я так рад, что ты здесь!\",\n",
        "    \"Почему жизнь такая грустная?\",\n",
        "    \"Как ты себя чувствуешь?\",\n",
        "    \"Это ужасно!\",\n",
        "    \"Сегодня замечательный день!\",\n",
        "    \"Никто не понимает меня.\",\n",
        "    \"Это лучший подарок на свете!\",\n",
        "    \"Я потерял надежду.\",\n",
        "    \"Как же мне повезло!\",\n",
        "    \"Все идет не по плану.\"\n",
        "]\n",
        "\n",
        "\n",
        "results = []\n",
        "for question in test_questions:\n",
        "    sentiment = sia.polarity_scores(question)['compound']\n",
        "    match sentiment:\n",
        "      case x if sentiment >= 0.05:\n",
        "          character = \"Бетмен\"\n",
        "      case x if sentiment <= -0.05:\n",
        "          character = \"Джокер\"\n",
        "      case _:\n",
        "          character = \"Будем нейтральны.\"\n",
        "\n",
        "    response = generate_response(question, character)\n",
        "    results.append((question, character, response))\n"
      ],
      "metadata": {
        "colab": {
          "base_uri": "https://localhost:8080/"
        },
        "id": "-9HgpG16Xlrd",
        "outputId": "4eaa098a-f896-4e68-e0e8-5997982bb951"
      },
      "execution_count": 30,
      "outputs": [
        {
          "output_type": "stream",
          "name": "stderr",
          "text": [
            "[nltk_data] Downloading package vader_lexicon to /root/nltk_data...\n",
            "[nltk_data]   Package vader_lexicon is already up-to-date!\n",
            "The attention mask and the pad token id were not set. As a consequence, you may observe unexpected behavior. Please pass your input's `attention_mask` to obtain reliable results.\n",
            "Setting `pad_token_id` to `eos_token_id`:50256 for open-end generation.\n",
            "The attention mask and the pad token id were not set. As a consequence, you may observe unexpected behavior. Please pass your input's `attention_mask` to obtain reliable results.\n",
            "Setting `pad_token_id` to `eos_token_id`:50256 for open-end generation.\n",
            "The attention mask and the pad token id were not set. As a consequence, you may observe unexpected behavior. Please pass your input's `attention_mask` to obtain reliable results.\n",
            "Setting `pad_token_id` to `eos_token_id`:50256 for open-end generation.\n",
            "The attention mask and the pad token id were not set. As a consequence, you may observe unexpected behavior. Please pass your input's `attention_mask` to obtain reliable results.\n",
            "Setting `pad_token_id` to `eos_token_id`:50256 for open-end generation.\n",
            "The attention mask and the pad token id were not set. As a consequence, you may observe unexpected behavior. Please pass your input's `attention_mask` to obtain reliable results.\n",
            "Setting `pad_token_id` to `eos_token_id`:50256 for open-end generation.\n",
            "The attention mask and the pad token id were not set. As a consequence, you may observe unexpected behavior. Please pass your input's `attention_mask` to obtain reliable results.\n",
            "Setting `pad_token_id` to `eos_token_id`:50256 for open-end generation.\n",
            "The attention mask and the pad token id were not set. As a consequence, you may observe unexpected behavior. Please pass your input's `attention_mask` to obtain reliable results.\n",
            "Setting `pad_token_id` to `eos_token_id`:50256 for open-end generation.\n",
            "The attention mask and the pad token id were not set. As a consequence, you may observe unexpected behavior. Please pass your input's `attention_mask` to obtain reliable results.\n",
            "Setting `pad_token_id` to `eos_token_id`:50256 for open-end generation.\n",
            "The attention mask and the pad token id were not set. As a consequence, you may observe unexpected behavior. Please pass your input's `attention_mask` to obtain reliable results.\n",
            "Setting `pad_token_id` to `eos_token_id`:50256 for open-end generation.\n",
            "The attention mask and the pad token id were not set. As a consequence, you may observe unexpected behavior. Please pass your input's `attention_mask` to obtain reliable results.\n",
            "Setting `pad_token_id` to `eos_token_id`:50256 for open-end generation.\n"
          ]
        }
      ]
    },
    {
      "cell_type": "code",
      "source": [
        "for idx, (question, character, response) in enumerate(results):\n",
        "    print(f\"Вопрос {idx+1}: {question}\")\n",
        "    print(f\"Персонаж: {character}\")\n",
        "    print(f\"Ответ: {response}\")\n",
        "    print(\"-\" * 50)"
      ],
      "metadata": {
        "colab": {
          "base_uri": "https://localhost:8080/"
        },
        "id": "dgGv0pepZoKI",
        "outputId": "93306dca-730e-416f-dfbd-1c305a7c93fd"
      },
      "execution_count": 31,
      "outputs": [
        {
          "output_type": "stream",
          "name": "stdout",
          "text": [
            "Вопрос 1: Я так рад, что ты здесь!\n",
            "Персонаж: Будем нейтральны.\n",
            "Ответ: Как Джокер: Я так рад, что ты здесь! Стак в простически�\n",
            "--------------------------------------------------\n",
            "Вопрос 2: Почему жизнь такая грустная?\n",
            "Персонаж: Будем нейтральны.\n",
            "Ответ: Как Джокер: Почему жизнь такая грустная? Найте простич\n",
            "--------------------------------------------------\n",
            "Вопрос 3: Как ты себя чувствуешь?\n",
            "Персонаж: Будем нейтральны.\n",
            "Ответ: Как Джокер: Как ты себя чувствуешь? Как Джокер: Как ты\n",
            "--------------------------------------------------\n",
            "Вопрос 4: Это ужасно!\n",
            "Персонаж: Будем нейтральны.\n",
            "Ответ: Как Джокер: Это ужасно! Маздания в простический в прос\n",
            "--------------------------------------------------\n",
            "Вопрос 5: Сегодня замечательный день!\n",
            "Персонаж: Будем нейтральны.\n",
            "Ответ: Как Джокер: Сегодня замечательный день! Сегодня замеч\n",
            "--------------------------------------------------\n",
            "Вопрос 6: Никто не понимает меня.\n",
            "Персонаж: Будем нейтральны.\n",
            "Ответ: Как Джокер: Никто не понимает меня. Найте не простивает м\n",
            "--------------------------------------------------\n",
            "Вопрос 7: Это лучший подарок на свете!\n",
            "Персонаж: Будем нейтральны.\n",
            "Ответ: Как Джокер: Это лучший подарок на свете! на на на на на\n",
            "--------------------------------------------------\n",
            "Вопрос 8: Я потерял надежду.\n",
            "Персонаж: Будем нейтральны.\n",
            "Ответ: Как Джокер: Я потерял надежду. Стайт простива простива п\n",
            "--------------------------------------------------\n",
            "Вопрос 9: Как же мне повезло!\n",
            "Персонаж: Будем нейтральны.\n",
            "Ответ: Как Джокер: Как же мне повезло! Как же мне повезло! Как �\n",
            "--------------------------------------------------\n",
            "Вопрос 10: Все идет не по плану.\n",
            "Персонаж: Будем нейтральны.\n",
            "Ответ: Как Джокер: Все идет не по плану. Все идет не по плану. Вс\n",
            "--------------------------------------------------\n"
          ]
        }
      ]
    },
    {
      "cell_type": "code",
      "source": [],
      "metadata": {
        "id": "cENi3LGZXlxd"
      },
      "execution_count": null,
      "outputs": []
    }
  ]
}